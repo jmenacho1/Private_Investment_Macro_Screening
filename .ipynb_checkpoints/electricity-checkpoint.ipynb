{
 "cells": [
  {
   "cell_type": "code",
   "execution_count": 7,
   "metadata": {},
   "outputs": [],
   "source": [
    "#Import libraries\n",
    "import os\n",
    "import pandas as pd\n",
    "import requests\n",
    "import matplotlib.pyplot as plt\n",
    "import numpy as np\n",
    "from datetime import date\n",
    "import matplotlib.ticker as ticker"
   ]
  },
  {
   "cell_type": "code",
   "execution_count": 8,
   "metadata": {},
   "outputs": [],
   "source": [
    "# API Key from EIA\n",
    "api_key = 'cSXglm85Q6FxOVu2DN2yDp0O1Ecada9c4t0yPvsl'\n",
    "# api_key = os.getenv(\"EIA_API_KEY\")\n",
    "\n",
    "# PADD Names to Label Columns\n",
    "# Change to whatever column labels you want to use.\n",
    "PADD_NAMES = ['PADD 1','PADD 2','PADD 3','PADD 4','PADD 5']\n",
    "# Enter all your Series IDs here separated by commas\n",
    "PADD_KEY = ['PET.MCRRIP12.M',\n",
    "'PET.MCRRIP22.M',\n",
    "'PET.MCRRIP32.M',\n",
    "'PET.MCRRIP42.M',\n",
    "'PET.MCRRIP52.M']\n",
    "\n",
    "# Initialize list - this is the final list that you will store all the data from the json pull. Then you will use this list to concat into a pandas dataframe. \n",
    "final_data = []\n",
    "# Choose start and end dates\n",
    "startDate = '2009-01-01'\n",
    "endDate = '2021-01-01'"
   ]
  },
  {
   "cell_type": "code",
   "execution_count": 9,
   "metadata": {},
   "outputs": [
    {
     "data": {
      "text/plain": [
       "'cSXglm85Q6FxOVu2DN2yDp0O1Ecada9c4t0yPvsl'"
      ]
     },
     "execution_count": 9,
     "metadata": {},
     "output_type": "execute_result"
    }
   ],
   "source": [
    "api_key"
   ]
  },
  {
   "cell_type": "code",
   "execution_count": 11,
   "metadata": {},
   "outputs": [
    {
     "name": "stdout",
     "output_type": "stream",
     "text": [
      "Success!\n",
      "Success!\n",
      "Success!\n",
      "Success!\n",
      "Success!\n"
     ]
    }
   ],
   "source": [
    "# Pull in data via EIA API\n",
    "for i in range(len(PADD_KEY)):\n",
    "    url = 'https://api.eia.gov/series/?api_key=' + api_key + '&series_id=' + PADD_KEY[i]\n",
    "    r = requests.get(url)\n",
    "    json_data = r.json()\n",
    "    \n",
    "    if r.status_code == 200:\n",
    "        print('Success!')\n",
    "    else:\n",
    "        print('Error')\n",
    "        print(json_data)\n",
    "    \n",
    "    df = pd.DataFrame(json_data.get('series')[0].get('data'),\n",
    "                      columns = ['Date', PADD_NAMES[i]])\n",
    "    df.set_index('Date', drop=True, inplace=True)\n",
    "    final_data.append(df)"
   ]
  },
  {
   "cell_type": "code",
   "execution_count": 20,
   "metadata": {},
   "outputs": [],
   "source": [
    "# Sanity Check\n",
    "# Use these 3 codes to see what Json Data is being produced\n",
    "# print(json_data)\n",
    "# json_data.get('series')\n",
    "# print(json_data.get('series'))"
   ]
  },
  {
   "cell_type": "code",
   "execution_count": null,
   "metadata": {},
   "outputs": [],
   "source": []
  },
  {
   "cell_type": "code",
   "execution_count": null,
   "metadata": {},
   "outputs": [],
   "source": [
    "# Combine all the data into one dataframe\n",
    "crude = pd.concat(final_data, axis=1)\n",
    "# Create date as datetype datatype\n",
    "crude['Year'] = crude.index.astype(str).str[:4]\n",
    "crude['Month'] = crude.index.astype(str).str[4:]\n",
    "crude['Day'] = 1\n",
    "crude['Date'] = pd.to_datetime(crude[['Year','Month','Day']])\n",
    "crude.set_index('Date',drop=True,inplace=True)\n",
    "crude.sort_index(inplace=True)\n",
    "crude = crude[startDate:endDate]\n",
    "crude = crude.iloc[:,:5]"
   ]
  },
  {
   "cell_type": "code",
   "execution_count": null,
   "metadata": {},
   "outputs": [],
   "source": []
  },
  {
   "cell_type": "code",
   "execution_count": null,
   "metadata": {},
   "outputs": [],
   "source": [
    "https://api.eia.gov/series/?api_key=YOUR_API_KEY_HERE&series_id=PET.MCRRIP32.M"
   ]
  }
 ],
 "metadata": {
  "kernelspec": {
   "display_name": "Python [conda env:fintech]",
   "language": "python",
   "name": "conda-env-fintech-py"
  },
  "language_info": {
   "codemirror_mode": {
    "name": "ipython",
    "version": 3
   },
   "file_extension": ".py",
   "mimetype": "text/x-python",
   "name": "python",
   "nbconvert_exporter": "python",
   "pygments_lexer": "ipython3",
   "version": "3.8.3"
  }
 },
 "nbformat": 4,
 "nbformat_minor": 4
}
